{
 "cells": [
  {
   "cell_type": "code",
   "execution_count": 1,
   "id": "565b09ee-d42a-4a0b-bab1-351c8e32db00",
   "metadata": {},
   "outputs": [],
   "source": [
    "import pandas as pd\n",
    "import my_functions as mf\n",
    "import numpy as np\n",
    "import matplotlib.pyplot as plt\n",
    "import seaborn as sns"
   ]
  },
  {
   "cell_type": "code",
   "execution_count": 2,
   "id": "ba4155bd-e6f2-4960-916c-4832da4bf7cf",
   "metadata": {},
   "outputs": [],
   "source": [
    "import importlib"
   ]
  },
  {
   "cell_type": "markdown",
   "id": "4b3bfda2-787a-4f6f-bddd-4c6a4acf9079",
   "metadata": {},
   "source": [
    "<img src = 'ASTRO_logo.png'>"
   ]
  },
  {
   "cell_type": "markdown",
   "id": "45826568-04e3-48de-9af7-baf435188155",
   "metadata": {},
   "source": [
    "**BREEZE Multicenter Study**\n",
    "--\n",
    "\n",
    "The following is a notebook containing the data analysis for the BREEZE multicenter study\n",
    "This is a registry of those who applied to be living donors using the BREEZE platform across different centers\n",
    "Based on the previously published single center version\n",
    "- Please see 'A Contemporary Analysis of Mental Well-being\n",
    "Among Living Donor Kidney Applicants'\n",
    "- doi: 10.1097/TXD.0000000000001631\n",
    "\n",
    "\\\n",
    "I have done my best to document every step of the way\\\n",
    "Required is the legend from Jai Prasadh, who did analysis on aforementioned paper\\\n",
    "Could not be possible without his well documented code :) \\\n",
    "\\\n",
    "Thanks, \\\n",
    "Brian Jafari MS2\n",
    "\n",
    "\n"
   ]
  },
  {
   "cell_type": "markdown",
   "id": "3a43cb6f-51c9-4e0e-97e3-70efdc972f11",
   "metadata": {
    "jp-MarkdownHeadingCollapsed": true
   },
   "source": [
    "### Data Cleaning"
   ]
  },
  {
   "cell_type": "markdown",
   "id": "34aa9222-0486-444b-90bc-08544096cfce",
   "metadata": {},
   "source": [
    "First, we start with cleaning/coding"
   ]
  },
  {
   "cell_type": "code",
   "execution_count": 3,
   "id": "7c6c4e7c-e5ca-4bf0-a66f-56cd6cd6b839",
   "metadata": {},
   "outputs": [],
   "source": [
    "#Stacking the slices\n",
    "rec = []\n",
    "for i in range(1, 4):\n",
    "    fname = f'breezereport_042225_slice{i}.csv'\n",
    "    if i == 1:\n",
    "        d = pd.read_csv(fname, encoding='latin-1')\n",
    "        cols = d.columns\n",
    "    else:\n",
    "        d = pd.read_csv(fname, header=None, names=cols, encoding='latin-1')\n",
    "    rec.append(d)\n",
    "\n",
    "df = pd.concat(rec, ignore_index=True)\n",
    "    "
   ]
  },
  {
   "cell_type": "code",
   "execution_count": 4,
   "id": "c9c05d0f-7a8f-44c2-bffc-4206a9a056e9",
   "metadata": {},
   "outputs": [],
   "source": [
    "#What columns are we working with"
   ]
  },
  {
   "cell_type": "code",
   "execution_count": 5,
   "id": "fb7866c9-e250-4688-86ed-6f13a598bbff",
   "metadata": {},
   "outputs": [
    {
     "name": "stdout",
     "output_type": "stream",
     "text": [
      "Transplant Center\n",
      "Record ID\n",
      "Completed\n",
      "Screening_Passed\n",
      "Gender\n",
      "BMI\n",
      "DOB\n",
      "Zip Code\n",
      "Preferred Language\n",
      "Translator Required\n",
      "Race\n",
      "Ethnicity\n",
      "Medications\n",
      "Medical History\n",
      "Allergies\n",
      "Medical Insurance Status\n",
      "Surgical History\n",
      "PCP City\n",
      "Family Medical History\n",
      "Recipient\n",
      "Relationship\n",
      "etohextended\n",
      "Exercise Frequency\n",
      "druguse\n",
      "tobacco\n",
      "Donor Type\n",
      "Employment Status\n",
      "Level of Education\n",
      "Living Accommodation\n",
      "Marital Status\n"
     ]
    }
   ],
   "source": [
    "for i in df.columns:\n",
    "    print(i)"
   ]
  },
  {
   "cell_type": "code",
   "execution_count": 6,
   "id": "cf9ca923-49b6-4091-8519-7b6b435473a6",
   "metadata": {},
   "outputs": [],
   "source": [
    "#EtOH"
   ]
  },
  {
   "cell_type": "code",
   "execution_count": 7,
   "id": "e9e58904-fe3e-4844-a3a0-8e77b853bfce",
   "metadata": {},
   "outputs": [
    {
     "data": {
      "text/plain": [
       "array(['EtOH: Denies', nan, 'EtOH: Rare (1-2 drinks/year)',\n",
       "       'EtOH: Rare (1-2 drinks/month)',\n",
       "       'EtOH: Occasional (1-2 drinks/week)',\n",
       "       'EtOH: Daily (1-2 drinks/day)', 'EtOH: Daily (>2 drinks/day)'],\n",
       "      dtype=object)"
      ]
     },
     "execution_count": 7,
     "metadata": {},
     "output_type": "execute_result"
    }
   ],
   "source": [
    "df.etohextended.unique()"
   ]
  },
  {
   "cell_type": "code",
   "execution_count": 8,
   "id": "8884a744-c66b-4935-8f40-27ab18883c33",
   "metadata": {},
   "outputs": [],
   "source": [
    "keys   = ['Denies', 'Rare', 'Occasional', 'Daily']\n",
    "values = np.arange(len(keys))\n",
    "et_d   = dict(zip(keys, values))\n",
    "\n",
    "\n",
    "df['etoh_code'] = np.nan\n",
    "\n",
    "for k, v in et_d.items():\n",
    "    df.loc[df['etohextended'].str.contains(k, na=False, case=False), 'etoh_code'] = v"
   ]
  },
  {
   "cell_type": "code",
   "execution_count": 9,
   "id": "f9c14e11-bc41-4d81-b7c2-604b3921c5d0",
   "metadata": {},
   "outputs": [
    {
     "data": {
      "text/plain": [
       "array(['Denies', nan, 'Remote', 'Current'], dtype=object)"
      ]
     },
     "execution_count": 9,
     "metadata": {},
     "output_type": "execute_result"
    }
   ],
   "source": [
    "#drug use\n",
    "df.druguse.unique()"
   ]
  },
  {
   "cell_type": "code",
   "execution_count": 10,
   "id": "7199f2de-6881-40f2-b44f-779d10f1ecc5",
   "metadata": {},
   "outputs": [],
   "source": [
    "keys = ['Denies', 'Remote', 'Current']\n",
    "values = np.arange(len(keys))\n",
    "il_d = dict(zip(keys, values))\n",
    "df['druguse_code'] = df.druguse.map(il_d)"
   ]
  },
  {
   "cell_type": "code",
   "execution_count": 11,
   "id": "c00a1865-5ca4-40d5-876d-734f492aac13",
   "metadata": {},
   "outputs": [
    {
     "data": {
      "text/plain": [
       "array(['Denies', nan, 'Remote', 'Current', 'TRUE'], dtype=object)"
      ]
     },
     "execution_count": 11,
     "metadata": {},
     "output_type": "execute_result"
    }
   ],
   "source": [
    "#smoking\n",
    "#what the heck is true\n",
    "#there is 28 with true - lets interpret it as current\n",
    "df.tobacco.unique()"
   ]
  },
  {
   "cell_type": "code",
   "execution_count": 12,
   "id": "a9901ff6-94a4-4171-8d13-8cdcb3944a9f",
   "metadata": {},
   "outputs": [],
   "source": [
    "t_m = {\n",
    "    'Denies' : 0,\n",
    "    'Remote' : 1,\n",
    "    'Current' : 2,\n",
    "    'TRUE' : 2\n",
    "}\n",
    "df['tobacco_coded'] = df.tobacco.map(t_m)"
   ]
  },
  {
   "cell_type": "code",
   "execution_count": 13,
   "id": "036e2635-98aa-47d0-97ed-21c97062c47a",
   "metadata": {},
   "outputs": [
    {
     "data": {
      "text/plain": [
       "array([nan, 'Exercise (2 X per week)', 'Exercise (>3X per week)',\n",
       "       'Exercise (Not on a regular basis)', 'Exercise (3 X per week)',\n",
       "       'Exercise (1 X per week)', 'Exercise (>3 times per week)'],\n",
       "      dtype=object)"
      ]
     },
     "execution_count": 13,
     "metadata": {},
     "output_type": "execute_result"
    }
   ],
   "source": [
    "#exercise\n",
    "df['Exercise Frequency'].unique()"
   ]
  },
  {
   "cell_type": "code",
   "execution_count": 14,
   "id": "ee9e9ec4-724f-4ca9-8d7a-a2a2bf4a9187",
   "metadata": {},
   "outputs": [],
   "source": [
    "values = [np.nan, 2, 4, 0, 3, 1, 4]\n",
    "e_d = dict(zip(df['Exercise Frequency'].unique(), values))\n",
    "df['exercise_coded'] = df['Exercise Frequency'].map(e_d)"
   ]
  },
  {
   "cell_type": "code",
   "execution_count": 15,
   "id": "b16ddb24-39c6-4acf-a9a2-51353e5a8e1a",
   "metadata": {},
   "outputs": [
    {
     "data": {
      "text/plain": [
       "array([nan, 'Parent', 'Acquaintance', 'Full Sibling', 'Close Friend',\n",
       "       'Grand Parent', 'Spouse or Partner', 'Spouse', 'Cousin', 'Child',\n",
       "       'Aunt/Uncle', 'Other', 'Half Sibling', 'Step Child',\n",
       "       'Member of the same community', 'Niece/Nephew',\n",
       "       'Significant Other', 'Father/Mother In-Law',\n",
       "       'Met through social media (such as Facebook)', 'Co-worker',\n",
       "       'Step Sibling', 'Step Parent', 'Son/Daughter In-Law',\n",
       "       'Sister/Brother In-Law', 'Grand Child', 'Aunt or Uncle',\n",
       "       'Not related (Other)', 'Met through social media',\n",
       "       'Sister or Brother In Law', 'Niece or Nephew',\n",
       "       'Father or Mother In Law', 'Son or Daughter In Law'], dtype=object)"
      ]
     },
     "execution_count": 15,
     "metadata": {},
     "output_type": "execute_result"
    }
   ],
   "source": [
    "#relationship\n",
    "df.Relationship.unique()"
   ]
  },
  {
   "cell_type": "code",
   "execution_count": 27,
   "id": "06bb6b6f-0708-45f9-baa3-c76181b51d4a",
   "metadata": {},
   "outputs": [],
   "source": [
    "keys = ['Spouse',\n",
    "'Significant Other',\n",
    "'Spouse or Partner',\n",
    "'Child',\n",
    "'Parent',\n",
    "'Full Sibling',\n",
    "'Half Sibling',\n",
    "'Step Parent',\n",
    "'Step Child',\n",
    "'Step Sibling',\n",
    "'Grand Parent',\n",
    "'Sister or Brother In Law',\n",
    "'Father or Mother In Law',\n",
    "'Cousin',\n",
    "'Niece or Nephew',\n",
    "'Aunt or Uncle',\n",
    "'Son or Daughter In Law',\n",
    "'Grand Child',\n",
    "'Aunt/Uncle',\n",
    "'Sister/Brother In-Law',\n",
    "'Niece/Nephew',\n",
    "'Son/Daughter In-Law',\n",
    "'Father/Mother In-Law',\n",
    "'Close Friend',\n",
    "'Acquaintance',\n",
    "'Co-worker',\n",
    "'Member of the same community',\n",
    "'Not related (Other)',\n",
    "'Other',\n",
    "'Met through social media',\n",
    "'Met through social media (such as Facebook)']\n",
    "\n",
    "values = [\n",
    "'Immediate family',\n",
    "'Immediate family',\n",
    "'Immediate family',\n",
    "'Immediate family',\n",
    "'Immediate family',\n",
    "'Immediate family',\n",
    "'Immediate family',\n",
    "'Immediate family',\n",
    "'Immediate family',\n",
    "'Immediate family',\n",
    "'Immediate family',\n",
    "'Extended family',\n",
    "'Extended family',\n",
    "'Extended family',\n",
    "'Extended family',\n",
    "'Extended family',\n",
    "'Extended family',\n",
    "'Extended family',\n",
    "'Extended family',\n",
    "'Extended family',\n",
    "'Extended family',\n",
    "'Extended family',\n",
    "'Extended family',\n",
    "'Friend',\n",
    "'Friend',\n",
    "'Friend',\n",
    "'Unrelated',\n",
    "'Unrelated',\n",
    "'Unrelated',\n",
    "'Unrelated',\n",
    "'Unrelated'\n",
    "]\n",
    "\n",
    "rel_m = dict(zip(keys, values))"
   ]
  },
  {
   "cell_type": "code",
   "execution_count": 28,
   "id": "771f4836-b9be-49d1-8f59-a3bfa828cc65",
   "metadata": {},
   "outputs": [],
   "source": [
    "df['relationship_grouped'] = df['Relationship'].map(rel_m)"
   ]
  },
  {
   "cell_type": "code",
   "execution_count": 29,
   "id": "9d13da5b-5b78-4937-8192-a4f72e7d58bf",
   "metadata": {},
   "outputs": [],
   "source": [
    "#coefficient of relatedness"
   ]
  },
  {
   "cell_type": "code",
   "execution_count": 30,
   "id": "8ea036a0-db3e-4e85-aba5-06f811372c42",
   "metadata": {},
   "outputs": [],
   "source": [
    "#I got lazy copying and pasting, manually typing the keys\n",
    "#there is a module to make this easy (thanks o4-mini-high)\n",
    "#to anyone reading this - copy and paste from Jai's Legend\n",
    "#both the keys and values in one rip (cells J4:K34)\n",
    "#let the code do what it does \n",
    "\n",
    "import tkinter as tk\n",
    "\n",
    "# grab whatever you just copied in Excel\n",
    "root = tk.Tk()\n",
    "root.withdraw()\n",
    "text = root.clipboard_get()\n",
    "\n",
    "# each line is “key<TAB>value”\n",
    "cr_m = {k: v for k, v in (row.split('\\t') for row in text.strip().splitlines())}\n"
   ]
  },
  {
   "cell_type": "code",
   "execution_count": 31,
   "id": "46d7e80d-b82e-454a-8aa8-5059876adc62",
   "metadata": {},
   "outputs": [],
   "source": [
    "df['coeff_rel'] =  df.Relationship.map(cr_m)"
   ]
  },
  {
   "cell_type": "code",
   "execution_count": null,
   "id": "d13753cf-d360-4a63-b826-129e9e77cfab",
   "metadata": {},
   "outputs": [],
   "source": [
    "#IM USING THE COPY PASTE THING FROM HERE ON\n",
    "#IF YOU ARE REPLICATING/RESTART KERNEL, YOU NEED TO \n",
    "#COPY PASTE APPROPRIATELY BEFORE EACH BLOCK"
   ]
  },
  {
   "cell_type": "code",
   "execution_count": 32,
   "id": "d37cf678-81e3-4bfe-aed7-b05e8f0154a1",
   "metadata": {},
   "outputs": [
    {
     "data": {
      "text/plain": [
       "0                                             Caucasian\n",
       "1                             Black or African American\n",
       "2                             Black or African American\n",
       "3                      American Indian or Alaska Native\n",
       "4                             Black or African American\n",
       "                              ...                      \n",
       "48853                                     Not Specified\n",
       "48854                                     Not Specified\n",
       "48855                                         Caucasian\n",
       "48856    Not Specified, Middle Eastern or North African\n",
       "48857                                         Caucasian\n",
       "Name: Race, Length: 48858, dtype: object"
      ]
     },
     "execution_count": 32,
     "metadata": {},
     "output_type": "execute_result"
    }
   ],
   "source": [
    "#Race\n",
    "df.Race"
   ]
  },
  {
   "cell_type": "code",
   "execution_count": 33,
   "id": "226fe39b-b65c-4888-81c7-bce9f45fd627",
   "metadata": {},
   "outputs": [],
   "source": [
    "# grab whatever you just copied in Excel\n",
    "root = tk.Tk()\n",
    "root.withdraw()\n",
    "text = root.clipboard_get()\n",
    "\n",
    "# each line is “key<TAB>value”\n",
    "rac_m = {k: v for k, v in (row.split('\\t') for row in text.strip().splitlines())}"
   ]
  },
  {
   "cell_type": "code",
   "execution_count": 34,
   "id": "62419ce8-cbab-491f-a92a-b25ae1a00b18",
   "metadata": {},
   "outputs": [],
   "source": [
    "df['race_coded'] = df.Race.map(rac_m)"
   ]
  },
  {
   "cell_type": "code",
   "execution_count": 25,
   "id": "9811d08c-e39f-45a9-9963-f85866726ae1",
   "metadata": {},
   "outputs": [],
   "source": [
    "#Taking Antidepressant/Anxiolytic\n",
    "root = tk.Tk()\n",
    "root.withdraw()\n",
    "text = root.clipboard_get()\n",
    "ad_ax = text.strip().splitlines()"
   ]
  },
  {
   "cell_type": "code",
   "execution_count": 36,
   "id": "6b0b2f0a-5548-427f-bf44-33240060aff5",
   "metadata": {},
   "outputs": [],
   "source": [
    "pattern = '|'.join(ad_ax)\n",
    "df['taking_ad_ax'] = df.Medications.str.contains(pattern, case=False, regex=True)"
   ]
  },
  {
   "cell_type": "code",
   "execution_count": 116,
   "id": "d9fa1dfe-dcd9-4596-802e-f1c9bbfbea6b",
   "metadata": {},
   "outputs": [],
   "source": [
    "df['taking_ad_ax'] = df.taking_ad_ax.fillna(False)"
   ]
  },
  {
   "cell_type": "code",
   "execution_count": null,
   "id": "ae305a69-7598-4211-bc79-edbbc0052895",
   "metadata": {},
   "outputs": [],
   "source": [
    "#Depression"
   ]
  },
  {
   "cell_type": "code",
   "execution_count": 62,
   "id": "d596fd45-7535-4bd3-af40-2d520c413030",
   "metadata": {},
   "outputs": [],
   "source": [
    "text = root.clipboard_get()\n",
    "dep = text.strip().replace('*', '').splitlines()\n",
    "pattern = '|'.join(dep)\n",
    "df['depression'] = df['Medical History'].str.contains(pattern, case=False, regex=True)"
   ]
  },
  {
   "cell_type": "code",
   "execution_count": 68,
   "id": "9e3f8b14-6ebe-425d-a8a2-d0369927a903",
   "metadata": {},
   "outputs": [],
   "source": [
    "#Anxiety\n",
    "text = root.clipboard_get()\n",
    "anx = text.strip().replace('*', '').splitlines()\n",
    "pattern = '|'.join(anx)"
   ]
  },
  {
   "cell_type": "code",
   "execution_count": 70,
   "id": "e29c009a-26b4-4b6d-b958-ba251ed13bd5",
   "metadata": {},
   "outputs": [],
   "source": [
    "df['anxiety'] = df['Medical History'].str.contains(pattern, case=False, regex=True)"
   ]
  },
  {
   "cell_type": "code",
   "execution_count": 72,
   "id": "4c02a7ee-3cf9-4727-8510-6a190ee4dbc0",
   "metadata": {},
   "outputs": [],
   "source": [
    "#Sleep Disorder\n",
    "text = root.clipboard_get()\n",
    "sleep = text.strip().replace('*', '').splitlines()\n",
    "pattern = '|'.join(sleep)"
   ]
  },
  {
   "cell_type": "code",
   "execution_count": 74,
   "id": "237aad83-5f6f-4c51-a779-f64515f5dd70",
   "metadata": {},
   "outputs": [],
   "source": [
    "df['sleep_disorder'] = df['Medical History'].str.contains(pattern, case=False, regex=True)"
   ]
  },
  {
   "cell_type": "code",
   "execution_count": 76,
   "id": "97dfd985-e6f7-493c-acc2-2511b39216cb",
   "metadata": {},
   "outputs": [],
   "source": [
    "#Other Psyciatric condition\n",
    "text = root.clipboard_get()\n",
    "other = text.strip().replace('*', '').splitlines()\n",
    "pattern = '|'.join(other)\n",
    "df['other_psychiatric_condition'] = df['Medical History'].str.contains(pattern, case=False, regex=True)"
   ]
  },
  {
   "cell_type": "code",
   "execution_count": 117,
   "id": "befae935-716a-437b-b7e1-163793bfa5e4",
   "metadata": {},
   "outputs": [],
   "source": [
    "#Thats all for how Jai coded!\n",
    "#Lets export it and put this to rest \n",
    "#That way we dont have to copy paste bullshit anymore\n",
    "df.to_csv('breeze_multicenter_coded.csv', index=False)"
   ]
  },
  {
   "cell_type": "markdown",
   "id": "6e24b9ca-d223-43ec-bbbf-ed2b77ff702e",
   "metadata": {
    "jp-MarkdownHeadingCollapsed": true
   },
   "source": [
    "# Start Here"
   ]
  },
  {
   "cell_type": "markdown",
   "id": "c21ba901-e112-41f7-8c82-b31a835e4d93",
   "metadata": {},
   "source": [
    "Here is where the analysis starts\n"
   ]
  },
  {
   "cell_type": "code",
   "execution_count": 103,
   "id": "f1c62503-70a8-489f-a44a-bb332a2a2b19",
   "metadata": {},
   "outputs": [],
   "source": [
    "from numpy import dtype"
   ]
  },
  {
   "cell_type": "code",
   "execution_count": 118,
   "id": "1eeee888-c5ac-42c0-b277-2d41edad62a7",
   "metadata": {},
   "outputs": [],
   "source": [
    "dtypes = {'Transplant Center': dtype('O'),\n",
    " 'Record ID': dtype('O'),\n",
    " 'Completed': dtype('O'),\n",
    " 'Screening_Passed': dtype('int64'),\n",
    " 'Gender': dtype('O'),\n",
    " 'BMI': dtype('float64'),\n",
    " 'DOB': dtype('O'),\n",
    " 'Zip Code': dtype('O'),\n",
    " 'Preferred Language': dtype('O'),\n",
    " 'Translator Required': dtype('O'),\n",
    " 'Race': dtype('O'),\n",
    " 'Ethnicity': dtype('O'),\n",
    " 'Medications': dtype('O'),\n",
    " 'Medical History': dtype('O'),\n",
    " 'Allergies': dtype('O'),\n",
    " 'Medical Insurance Status': dtype('O'),\n",
    " 'Surgical History': dtype('O'),\n",
    " 'PCP City': dtype('O'),\n",
    " 'Family Medical History': dtype('O'),\n",
    " 'Recipient': dtype('O'),\n",
    " 'Relationship': dtype('O'),\n",
    " 'etohextended': dtype('O'),\n",
    " 'Exercise Frequency': dtype('O'),\n",
    " 'druguse': dtype('O'),\n",
    " 'tobacco': dtype('O'),\n",
    " 'Donor Type': dtype('O'),\n",
    " 'Employment Status': dtype('O'),\n",
    " 'Level of Education': dtype('O'),\n",
    " 'Living Accommodation': dtype('O'),\n",
    " 'Marital Status': dtype('O'),\n",
    " 'etoh_code': dtype('float64'),\n",
    " 'druguse_code': dtype('float64'),\n",
    " 'tobacco_coded': dtype('float64'),\n",
    " 'exercise_coded': dtype('float64'),\n",
    " 'relationship_grouped': dtype('O'),\n",
    " 'coeff_rel': dtype('float64'),\n",
    " 'race_coded': dtype('O'),\n",
    " 'taking_ad_ax': dtype('int'),\n",
    " 'depression': dtype('int'),\n",
    " 'anxiety': dtype('int'),\n",
    " 'sleep_disorder': dtype('int'),\n",
    " 'other_psychiatric_condition': dtype('int')}"
   ]
  },
  {
   "cell_type": "code",
   "execution_count": 119,
   "id": "ee89b53b-9681-4f46-8163-41bf86a552de",
   "metadata": {},
   "outputs": [],
   "source": [
    "df = pd.read_csv('breeze_multicenter_coded.csv', dtype = dtypes)"
   ]
  },
  {
   "cell_type": "code",
   "execution_count": 128,
   "id": "f1fd7aed-c757-47c9-9ada-6f528d772201",
   "metadata": {},
   "outputs": [],
   "source": [
    "#Convert to datetimes\n",
    "datetimes = ['Completed', 'DOB']\n",
    "for col in datetimes:\n",
    "    df[col] = pd.to_datetime(df[col])"
   ]
  },
  {
   "cell_type": "code",
   "execution_count": 135,
   "id": "54a77689-cf08-474f-8e48-01e5ca2f25f3",
   "metadata": {
    "scrolled": true
   },
   "outputs": [],
   "source": [
    "#Age is not a column\n",
    "#Define as completed date - DOB\n",
    "df['age'] = (df.Completed - df.DOB).apply(lambda x: x.days)\n",
    "df.age = (df.age / 365).round(0)"
   ]
  },
  {
   "cell_type": "code",
   "execution_count": 143,
   "id": "95b3be77-b5fa-4adb-8eb8-740e721f4c56",
   "metadata": {},
   "outputs": [
    {
     "data": {
      "text/plain": [
       "array([ 26.,  32.,  59.,  71.,  41.,  63.,  52.,  24.,  55.,  62.,  49.,\n",
       "        50.,  40.,  46.,  36.,  31.,  30.,  69.,  44.,  70.,  60.,  43.,\n",
       "        35.,  85.,  25.,  27.,  38.,  45.,  57.,  33.,  21.,  23.,  37.,\n",
       "        29.,  28.,  68.,  22.,  42.,  54.,  66.,  64.,  75.,  48.,  51.,\n",
       "        39.,  72.,  58.,  47.,  56.,  34.,  65.,  61.,  18.,   0.,  74.,\n",
       "        53.,  19.,  67.,  20.,  17.,  79.,  16.,  73.,  76.,   1.,  78.,\n",
       "        81.,  77.,  86.,  82.,  84.,  15.,  87.,  83.,  80.,  13.,  nan,\n",
       "        89.,   4.,  -2.,  12.,  14.,  11.,   5.,   9.,  88.,  90.,  91.,\n",
       "        10., 101., 100.,  94.])"
      ]
     },
     "execution_count": 143,
     "metadata": {},
     "output_type": "execute_result"
    }
   ],
   "source": [
    "df.age.unique()"
   ]
  },
  {
   "cell_type": "code",
   "execution_count": 153,
   "id": "f3ce659d-3ce1-4aa2-a94f-b66bfee01150",
   "metadata": {},
   "outputs": [],
   "source": [
    "#Lot of age values that dont make sense\n",
    "#-2 for example\n",
    "#probably people putting in DOB wrong\n",
    "#lets say 18-90"
   ]
  },
  {
   "cell_type": "code",
   "execution_count": 152,
   "id": "825db24b-92b3-4640-b116-ff6633813ed1",
   "metadata": {},
   "outputs": [],
   "source": [
    "df = df.query('age > 18 and age < 90')"
   ]
  },
  {
   "cell_type": "code",
   "execution_count": 219,
   "id": "65f83df8-ce30-4895-b2dc-1c20edd21fb8",
   "metadata": {},
   "outputs": [
    {
     "name": "stderr",
     "output_type": "stream",
     "text": [
      "/var/folders/nx/_g213lmj3b79wrzpf1wxbcc40000gn/T/ipykernel_22314/2931449389.py:1: SettingWithCopyWarning: \n",
      "A value is trying to be set on a copy of a slice from a DataFrame.\n",
      "Try using .loc[row_indexer,col_indexer] = value instead\n",
      "\n",
      "See the caveats in the documentation: https://pandas.pydata.org/pandas-docs/stable/user_guide/indexing.html#returning-a-view-versus-a-copy\n",
      "  df.Gender = df.Gender.mask(df.Gender == 'Non-Binary', 'Other')\n"
     ]
    }
   ],
   "source": [
    "df.Gender = df.Gender.mask(df.Gender == 'Non-Binary', 'Other')"
   ]
  },
  {
   "cell_type": "code",
   "execution_count": null,
   "id": "851d92c8-3662-48c6-aac9-cecb3078df5a",
   "metadata": {},
   "outputs": [],
   "source": [
    "df"
   ]
  },
  {
   "cell_type": "markdown",
   "id": "a3bd066b-fc71-458a-8ea4-9028bfeafaf1",
   "metadata": {
    "jp-MarkdownHeadingCollapsed": true
   },
   "source": [
    "## Descriptives"
   ]
  },
  {
   "cell_type": "code",
   "execution_count": 220,
   "id": "8f3134bd-e213-4553-8f87-20f49552c16d",
   "metadata": {},
   "outputs": [],
   "source": [
    "cats = [\n",
    "    'Gender',\n",
    "    'Ethnicity',\n",
    "    'anxiety',\n",
    "    'depression',\n",
    "    'taking_ad_ax',\n",
    "    'race_coded',\n",
    "    'sleep_disorder',\n",
    "    'other_psychiatric_condition',\n",
    "    'relationship_grouped'\n",
    "]\n",
    "\n",
    "norm = [\n",
    "    'age',\n",
    "    'BMI',\n",
    "    'etoh_code',\n",
    "    'druguse_code',\n",
    "    'tobacco_coded',\n",
    "    'exercise_coded'\n",
    "]"
   ]
  },
  {
   "cell_type": "code",
   "execution_count": 549,
   "id": "00188bdd-d437-462c-abc4-159389547581",
   "metadata": {},
   "outputs": [
    {
     "name": "stdout",
     "output_type": "stream",
     "text": [
      "                                                           Descriptives\n",
      "cat                         var                                        \n",
      "                            n                                     48319\n",
      "                            age                             42.7 (13.9)\n",
      "                            BMI                              29.2 (7.1)\n",
      "                            etoh_code                         1.2 (0.8)\n",
      "                            druguse_code                      0.3 (0.6)\n",
      "                            tobacco_coded                     0.3 (0.6)\n",
      "                            exercise_coded                    2.3 (1.5)\n",
      "Gender                      Female                        32286 (66.8%)\n",
      "                            Male                          15976 (33.1%)\n",
      "                            Other                             57 (0.1%)\n",
      "Ethnicity                   Not Hispanic/Latino           38025 (78.7%)\n",
      "                            Hispanic/Latino               10293 (21.3%)\n",
      "anxiety                     0                             42428 (87.8%)\n",
      "                            1                              5891 (12.2%)\n",
      "depression                  0                             42609 (88.2%)\n",
      "                            1                              5710 (11.8%)\n",
      "taking_ad_ax                0                             41872 (86.7%)\n",
      "                            1                              6447 (13.3%)\n",
      "race_coded                  White                         32924 (69.0%)\n",
      "                            Not Specified                  5819 (12.2%)\n",
      "                            Black                           4210 (8.8%)\n",
      "                            Asian/Pacific Islander          2960 (6.2%)\n",
      "                            Mixed                           1041 (2.2%)\n",
      "                            Indigenous                       630 (1.3%)\n",
      "                            Middle Eastern/North African     117 (0.2%)\n",
      "sleep_disorder              0                             45775 (94.7%)\n",
      "                            1                               2544 (5.3%)\n",
      "other_psychiatric_condition 0                             45413 (94.0%)\n",
      "                            1                               2906 (6.0%)\n",
      "relationship_grouped        Immediate family              14598 (34.0%)\n",
      "                            Friend                        11449 (26.7%)\n",
      "                            Unrelated                     10890 (25.4%)\n",
      "                            Extended family                6005 (14.0%)\n"
     ]
    }
   ],
   "source": [
    "desc = pd.DataFrame(mf.char_ser(df, name='Descriptives', cats=cats, norm=norm))\n",
    "desc.to_excel('breeze_descs.xlsx')\n",
    "print(desc)"
   ]
  },
  {
   "cell_type": "markdown",
   "id": "29c8fdda-fa21-4706-b77b-fdb50d9939ee",
   "metadata": {
    "jp-MarkdownHeadingCollapsed": true
   },
   "source": [
    "## Trends"
   ]
  },
  {
   "cell_type": "code",
   "execution_count": 171,
   "id": "84f0a5ba-f5fb-442d-b3cd-eaaf0e9da1ad",
   "metadata": {},
   "outputs": [
    {
     "name": "stderr",
     "output_type": "stream",
     "text": [
      "/var/folders/nx/_g213lmj3b79wrzpf1wxbcc40000gn/T/ipykernel_22314/540861732.py:1: SettingWithCopyWarning: \n",
      "A value is trying to be set on a copy of a slice from a DataFrame.\n",
      "Try using .loc[row_indexer,col_indexer] = value instead\n",
      "\n",
      "See the caveats in the documentation: https://pandas.pydata.org/pandas-docs/stable/user_guide/indexing.html#returning-a-view-versus-a-copy\n",
      "  df['year'] = df.Completed.apply(lambda x : x.year)\n"
     ]
    }
   ],
   "source": [
    "df['year'] = df.Completed.apply(lambda x : x.year)"
   ]
  },
  {
   "cell_type": "code",
   "execution_count": 184,
   "id": "2146dcd6-26f3-4efe-a89c-10593ac0a244",
   "metadata": {},
   "outputs": [
    {
     "name": "stdout",
     "output_type": "stream",
     "text": [
      "year\n",
      "2018    5629\n",
      "2019    7468\n",
      "2020    5199\n",
      "2021    6425\n",
      "2022    8068\n",
      "2023    8373\n",
      "2024    7157\n",
      "dtype: int64\n",
      "Mean (std) # of applicants yearly : 6903 (1201)\n"
     ]
    }
   ],
   "source": [
    "# # applicants by year\n",
    "p_y = df.groupby('year').size()\n",
    "print(p_y)\n",
    "print(f'Mean (std) # of applicants yearly : {p_y.mean():.0f} ({p_y.std():.0f})')"
   ]
  },
  {
   "cell_type": "code",
   "execution_count": 190,
   "id": "774fb322-6a3c-4a50-8439-53535bdcd803",
   "metadata": {},
   "outputs": [
    {
     "data": {
      "text/plain": [
       "array(['Not Hispanic/Latino', 'Hispanic/Latino', nan], dtype=object)"
      ]
     },
     "execution_count": 190,
     "metadata": {},
     "output_type": "execute_result"
    }
   ],
   "source": [
    "df.Ethnicity.unique()"
   ]
  },
  {
   "cell_type": "code",
   "execution_count": 205,
   "id": "1af27cf2-4f76-4324-a8d0-da7955aaeb54",
   "metadata": {},
   "outputs": [
    {
     "name": "stderr",
     "output_type": "stream",
     "text": [
      "/var/folders/nx/_g213lmj3b79wrzpf1wxbcc40000gn/T/ipykernel_22314/429496907.py:8: SettingWithCopyWarning: \n",
      "A value is trying to be set on a copy of a slice from a DataFrame.\n",
      "Try using .loc[row_indexer,col_indexer] = value instead\n",
      "\n",
      "See the caveats in the documentation: https://pandas.pydata.org/pandas-docs/stable/user_guide/indexing.html#returning-a-view-versus-a-copy\n",
      "  df['erg'] = np.select(conds, choices, default='All Other')\n"
     ]
    }
   ],
   "source": [
    "#divided by ethnoracial group (black, latino, other)\n",
    "conds = [\n",
    "    df['Ethnicity'] == 'Hispanic/Latino',\n",
    "    df['race_coded'] == 'Black'\n",
    "]\n",
    "choices = ['H', 'B']\n",
    "\n",
    "df['erg'] = np.select(conds, choices, default='All Other')\n"
   ]
  },
  {
   "cell_type": "code",
   "execution_count": 279,
   "id": "ce953e87-b579-4ae4-90ff-2cb8541ea1a1",
   "metadata": {},
   "outputs": [
    {
     "name": "stdout",
     "output_type": "stream",
     "text": [
      "year  erg      \n",
      "2018  All Other    3991\n",
      "      H            1244\n",
      "      B             394\n",
      "2019  All Other    5293\n",
      "      H            1579\n",
      "      B             596\n",
      "2020  All Other    3791\n",
      "      H             991\n",
      "      B             417\n",
      "2021  All Other    4557\n",
      "      H            1374\n",
      "      B             494\n",
      "2022  All Other    5691\n",
      "      H            1664\n",
      "      B             713\n",
      "2023  All Other    5754\n",
      "      H            1870\n",
      "      B             749\n",
      "2024  All Other    4989\n",
      "      H            1571\n",
      "      B             597\n",
      "Name: count, dtype: int64\n",
      "year  erg      \n",
      "2018  All Other    0.71\n",
      "      H            0.22\n",
      "      B            0.07\n",
      "2019  All Other    0.71\n",
      "      H            0.21\n",
      "      B            0.08\n",
      "2020  All Other    0.73\n",
      "      H            0.19\n",
      "      B            0.08\n",
      "2021  All Other    0.71\n",
      "      H            0.21\n",
      "      B            0.08\n",
      "2022  All Other    0.71\n",
      "      H            0.21\n",
      "      B            0.09\n",
      "2023  All Other    0.69\n",
      "      H            0.22\n",
      "      B            0.09\n",
      "2024  All Other    0.70\n",
      "      H            0.22\n",
      "      B            0.08\n",
      "Name: proportion, dtype: float64\n"
     ]
    }
   ],
   "source": [
    "#applicants by year per erg\n",
    "\n",
    "p_y_erg = df.groupby('year')['erg']\n",
    "print(p_y_erg.value_counts())\n",
    "print(p_y_erg.value_counts(normalize=True).round(2))"
   ]
  },
  {
   "cell_type": "code",
   "execution_count": 222,
   "id": "4fd238ba-635a-43c6-9e86-ffd831200993",
   "metadata": {},
   "outputs": [
    {
     "name": "stdout",
     "output_type": "stream",
     "text": [
      "year  Gender\n",
      "2018  Female    3780\n",
      "      Male      1849\n",
      "2019  Female    5039\n",
      "      Male      2429\n",
      "2020  Female    3417\n",
      "      Male      1782\n",
      "2021  Female    4240\n",
      "      Male      2184\n",
      "      Other        1\n",
      "2022  Female    5494\n",
      "      Male      2566\n",
      "      Other        8\n",
      "2023  Female    5614\n",
      "      Male      2738\n",
      "      Other       21\n",
      "2024  Female    4702\n",
      "      Male      2428\n",
      "      Other       27\n",
      "Name: count, dtype: int64\n",
      "year  Gender\n",
      "2018  Female    0.67\n",
      "      Male      0.33\n",
      "2019  Female    0.67\n",
      "      Male      0.33\n",
      "2020  Female    0.66\n",
      "      Male      0.34\n",
      "2021  Female    0.66\n",
      "      Male      0.34\n",
      "      Other     0.00\n",
      "2022  Female    0.68\n",
      "      Male      0.32\n",
      "      Other     0.00\n",
      "2023  Female    0.67\n",
      "      Male      0.33\n",
      "      Other     0.00\n",
      "2024  Female    0.66\n",
      "      Male      0.34\n",
      "      Other     0.00\n",
      "Name: proportion, dtype: float64\n"
     ]
    }
   ],
   "source": [
    "#applicants per year by gender\n",
    "p_y_g = df.groupby('year')['Gender']\n",
    "print(p_y_g.value_counts())\n",
    "print(p_y_g.value_counts(normalize=True).round(2))"
   ]
  },
  {
   "cell_type": "code",
   "execution_count": 225,
   "id": "59b05874-b532-4563-bc53-136d0ad13b6c",
   "metadata": {},
   "outputs": [
    {
     "name": "stdout",
     "output_type": "stream",
     "text": [
      "year\n",
      "2018    41.94\n",
      "2019    42.06\n",
      "2020    41.59\n",
      "2021    43.09\n",
      "2022    43.05\n",
      "2023    43.85\n",
      "2024    42.90\n",
      "Name: age, dtype: float64\n"
     ]
    }
   ],
   "source": [
    "#mean age by year\n",
    "a_y = df.groupby('year').age.mean()\n",
    "print(a_y.round(2))"
   ]
  },
  {
   "cell_type": "code",
   "execution_count": 226,
   "id": "39af1e6b-43e2-400a-adfc-9ad999f63230",
   "metadata": {},
   "outputs": [
    {
     "name": "stdout",
     "output_type": "stream",
     "text": [
      "year\n",
      "2018    28.85\n",
      "2019    29.24\n",
      "2020    28.70\n",
      "2021    29.32\n",
      "2022    29.35\n",
      "2023    29.67\n",
      "2024    29.12\n",
      "Name: BMI, dtype: float64\n"
     ]
    }
   ],
   "source": [
    "#Mean BMI by year\n",
    "b_y = df.groupby('year').BMI.mean()\n",
    "print(b_y.round(2))"
   ]
  },
  {
   "cell_type": "code",
   "execution_count": 228,
   "id": "fc0557e8-8f42-4418-863e-a6e8224fec44",
   "metadata": {},
   "outputs": [
    {
     "name": "stdout",
     "output_type": "stream",
     "text": [
      "year  relationship_grouped\n",
      "2018  Immediate family        1697\n",
      "      Friend                  1417\n",
      "      Unrelated               1158\n",
      "      Extended family          840\n",
      "2019  Immediate family        2309\n",
      "      Friend                  1935\n",
      "      Unrelated               1481\n",
      "      Extended family         1080\n",
      "2020  Immediate family        1519\n",
      "      Friend                  1322\n",
      "      Unrelated               1231\n",
      "      Extended family          748\n",
      "2021  Immediate family        1945\n",
      "      Friend                  1537\n",
      "      Unrelated               1371\n",
      "      Extended family          828\n",
      "2022  Immediate family        2330\n",
      "      Friend                  1951\n",
      "      Unrelated               1819\n",
      "      Extended family          857\n",
      "2023  Immediate family        2440\n",
      "      Unrelated               2112\n",
      "      Friend                  1817\n",
      "      Extended family          905\n",
      "2024  Immediate family        2358\n",
      "      Unrelated               1718\n",
      "      Friend                  1470\n",
      "      Extended family          747\n",
      "Name: count, dtype: int64\n",
      "year  relationship_grouped\n",
      "2018  Immediate family        0.33\n",
      "      Friend                  0.28\n",
      "      Unrelated               0.23\n",
      "      Extended family         0.16\n",
      "2019  Immediate family        0.34\n",
      "      Friend                  0.28\n",
      "      Unrelated               0.22\n",
      "      Extended family         0.16\n",
      "2020  Immediate family        0.32\n",
      "      Friend                  0.27\n",
      "      Unrelated               0.26\n",
      "      Extended family         0.16\n",
      "2021  Immediate family        0.34\n",
      "      Friend                  0.27\n",
      "      Unrelated               0.24\n",
      "      Extended family         0.15\n",
      "2022  Immediate family        0.33\n",
      "      Friend                  0.28\n",
      "      Unrelated               0.26\n",
      "      Extended family         0.12\n",
      "2023  Immediate family        0.34\n",
      "      Unrelated               0.29\n",
      "      Friend                  0.25\n",
      "      Extended family         0.12\n",
      "2024  Immediate family        0.37\n",
      "      Unrelated               0.27\n",
      "      Friend                  0.23\n",
      "      Extended family         0.12\n",
      "Name: proportion, dtype: float64\n"
     ]
    }
   ],
   "source": [
    "#Relationship type by year\n",
    "#Proportions\n",
    "r_y = df.groupby('year').relationship_grouped\n",
    "print(r_y.value_counts())\n",
    "print(r_y.value_counts(normalize=True).round(2))"
   ]
  },
  {
   "cell_type": "code",
   "execution_count": 242,
   "id": "7fc245b8-8b80-4984-ac39-41b0afe7f9b9",
   "metadata": {},
   "outputs": [
    {
     "name": "stderr",
     "output_type": "stream",
     "text": [
      "/var/folders/nx/_g213lmj3b79wrzpf1wxbcc40000gn/T/ipykernel_22314/3540581516.py:1: SettingWithCopyWarning: \n",
      "A value is trying to be set on a copy of a slice from a DataFrame.\n",
      "Try using .loc[row_indexer,col_indexer] = value instead\n",
      "\n",
      "See the caveats in the documentation: https://pandas.pydata.org/pandas-docs/stable/user_guide/indexing.html#returning-a-view-versus-a-copy\n",
      "  df['erg_2'] = df.erg.mask((df.race_coded == 'White') & (df.erg != \"H\"), 'White')\n"
     ]
    }
   ],
   "source": [
    "df['erg_2'] = df.erg.mask((df.race_coded == 'White') & (df.erg != \"H\"), 'White')"
   ]
  },
  {
   "cell_type": "code",
   "execution_count": 246,
   "id": "139d8bf4-7586-497e-846a-d6b481a54304",
   "metadata": {},
   "outputs": [
    {
     "name": "stdout",
     "output_type": "stream",
     "text": [
      "erg_2      relationship_grouped\n",
      "All Other  Immediate family        2168\n",
      "           Friend                   921\n",
      "           Extended family          761\n",
      "           Unrelated                735\n",
      "B          Immediate family        2012\n",
      "           Friend                   704\n",
      "           Extended family          605\n",
      "           Unrelated                387\n",
      "H          Immediate family        4574\n",
      "           Friend                  1858\n",
      "           Extended family         1581\n",
      "           Unrelated               1530\n",
      "White      Unrelated               8238\n",
      "           Friend                  7966\n",
      "           Immediate family        5844\n",
      "           Extended family         3058\n",
      "Name: count, dtype: int64\n",
      "erg_2      relationship_grouped\n",
      "All Other  Immediate family        0.47\n",
      "           Friend                  0.20\n",
      "           Extended family         0.17\n",
      "           Unrelated               0.16\n",
      "B          Immediate family        0.54\n",
      "           Friend                  0.19\n",
      "           Extended family         0.16\n",
      "           Unrelated               0.10\n",
      "H          Immediate family        0.48\n",
      "           Friend                  0.19\n",
      "           Extended family         0.17\n",
      "           Unrelated               0.16\n",
      "White      Unrelated               0.33\n",
      "           Friend                  0.32\n",
      "           Immediate family        0.23\n",
      "           Extended family         0.12\n",
      "Name: proportion, dtype: float64\n"
     ]
    }
   ],
   "source": [
    "#relationship by erg\n",
    "er_r = df.groupby('erg_2').relationship_grouped\n",
    "print(er_r.value_counts())\n",
    "print(er_r.value_counts(normalize=True).round(2))"
   ]
  },
  {
   "cell_type": "code",
   "execution_count": 329,
   "id": "7abd56fd-ae7f-43bf-9f4c-500e585d07dc",
   "metadata": {},
   "outputs": [],
   "source": [
    "#depression, anxiety, taking antidepressant anxiolytic\n",
    "ment_g = df.groupby('year')"
   ]
  },
  {
   "cell_type": "code",
   "execution_count": 375,
   "id": "19ed36c1-e391-4a3f-abd1-6c5811f085bd",
   "metadata": {},
   "outputs": [],
   "source": [
    "mh = ['depression', 'anxiety', 'sleep_disorder','taking_ad_ax']"
   ]
  },
  {
   "cell_type": "code",
   "execution_count": 376,
   "id": "4d425335-1fab-44fa-b2e0-499f239c6178",
   "metadata": {},
   "outputs": [
    {
     "name": "stdout",
     "output_type": "stream",
     "text": [
      "year  depression\n",
      "2018  0             5004\n",
      "      1              625\n",
      "2019  0             6555\n",
      "      1              913\n",
      "2020  0             4538\n",
      "      1              661\n",
      "2021  0             5692\n",
      "      1              733\n",
      "2022  0             7190\n",
      "      1              878\n",
      "2023  0             7384\n",
      "      1              989\n",
      "2024  0             6246\n",
      "      1              911\n",
      "Name: count, dtype: int64\n",
      "year  depression\n",
      "2018  0             0.89\n",
      "      1             0.11\n",
      "2019  0             0.88\n",
      "      1             0.12\n",
      "2020  0             0.87\n",
      "      1             0.13\n",
      "2021  0             0.89\n",
      "      1             0.11\n",
      "2022  0             0.89\n",
      "      1             0.11\n",
      "2023  0             0.88\n",
      "      1             0.12\n",
      "2024  0             0.87\n",
      "      1             0.13\n",
      "Name: proportion, dtype: float64\n",
      "year  anxiety\n",
      "2018  0          4967\n",
      "      1           662\n",
      "2019  0          6543\n",
      "      1           925\n",
      "2020  0          4550\n",
      "      1           649\n",
      "2021  0          5692\n",
      "      1           733\n",
      "2022  0          7146\n",
      "      1           922\n",
      "2023  0          7347\n",
      "      1          1026\n",
      "2024  0          6183\n",
      "      1           974\n",
      "Name: count, dtype: int64\n",
      "year  anxiety\n",
      "2018  0          0.88\n",
      "      1          0.12\n",
      "2019  0          0.88\n",
      "      1          0.12\n",
      "2020  0          0.88\n",
      "      1          0.12\n",
      "2021  0          0.89\n",
      "      1          0.11\n",
      "2022  0          0.89\n",
      "      1          0.11\n",
      "2023  0          0.88\n",
      "      1          0.12\n",
      "2024  0          0.86\n",
      "      1          0.14\n",
      "Name: proportion, dtype: float64\n",
      "year  sleep_disorder\n",
      "2018  0                 5284\n",
      "      1                  345\n",
      "2019  0                 6994\n",
      "      1                  474\n",
      "2020  0                 4894\n",
      "      1                  305\n",
      "2021  0                 6117\n",
      "      1                  308\n",
      "2022  0                 7717\n",
      "      1                  351\n",
      "2023  0                 7969\n",
      "      1                  404\n",
      "2024  0                 6800\n",
      "      1                  357\n",
      "Name: count, dtype: int64\n",
      "year  sleep_disorder\n",
      "2018  0                 0.94\n",
      "      1                 0.06\n",
      "2019  0                 0.94\n",
      "      1                 0.06\n",
      "2020  0                 0.94\n",
      "      1                 0.06\n",
      "2021  0                 0.95\n",
      "      1                 0.05\n",
      "2022  0                 0.96\n",
      "      1                 0.04\n",
      "2023  0                 0.95\n",
      "      1                 0.05\n",
      "2024  0                 0.95\n",
      "      1                 0.05\n",
      "Name: proportion, dtype: float64\n",
      "year  taking_ad_ax\n",
      "2018  0               4913\n",
      "      1                716\n",
      "2019  0               6525\n",
      "      1                943\n",
      "2020  0               4512\n",
      "      1                687\n",
      "2021  0               5609\n",
      "      1                816\n",
      "2022  0               7009\n",
      "      1               1059\n",
      "2023  0               7196\n",
      "      1               1177\n",
      "2024  0               6108\n",
      "      1               1049\n",
      "Name: count, dtype: int64\n",
      "year  taking_ad_ax\n",
      "2018  0               0.87\n",
      "      1               0.13\n",
      "2019  0               0.87\n",
      "      1               0.13\n",
      "2020  0               0.87\n",
      "      1               0.13\n",
      "2021  0               0.87\n",
      "      1               0.13\n",
      "2022  0               0.87\n",
      "      1               0.13\n",
      "2023  0               0.86\n",
      "      1               0.14\n",
      "2024  0               0.85\n",
      "      1               0.15\n",
      "Name: proportion, dtype: float64\n"
     ]
    }
   ],
   "source": [
    "for col in mh:\n",
    "    print(ment_g[col].value_counts())\n",
    "    print(ment_g[col].value_counts(normalize=True).round(2))"
   ]
  },
  {
   "cell_type": "code",
   "execution_count": null,
   "id": "4aabf9b5-ea72-47b1-b15c-fd5b221983b3",
   "metadata": {},
   "outputs": [],
   "source": [
    "#To see all in one df look here"
   ]
  },
  {
   "cell_type": "code",
   "execution_count": 346,
   "id": "fd94ed01-2030-4f96-9d5a-9cff8d489dd0",
   "metadata": {},
   "outputs": [],
   "source": [
    "y_dict = {k : df.query('year == @v') for k, v in zip(df.year.unique(), df.year.unique())}"
   ]
  },
  {
   "cell_type": "code",
   "execution_count": 368,
   "id": "3ec832bc-14f3-4653-9cec-ae557cd0549b",
   "metadata": {},
   "outputs": [],
   "source": [
    "list(range(2018, 2025, 1)).append('p')"
   ]
  },
  {
   "cell_type": "code",
   "execution_count": 377,
   "id": "3fc9c0e5-8d85-4298-8856-f8b423ce8e7a",
   "metadata": {},
   "outputs": [
    {
     "data": {
      "text/html": [
       "<div>\n",
       "<style scoped>\n",
       "    .dataframe tbody tr th:only-of-type {\n",
       "        vertical-align: middle;\n",
       "    }\n",
       "\n",
       "    .dataframe tbody tr th {\n",
       "        vertical-align: top;\n",
       "    }\n",
       "\n",
       "    .dataframe thead th {\n",
       "        text-align: right;\n",
       "    }\n",
       "</style>\n",
       "<table border=\"1\" class=\"dataframe\">\n",
       "  <thead>\n",
       "    <tr style=\"text-align: right;\">\n",
       "      <th></th>\n",
       "      <th></th>\n",
       "      <th>2018</th>\n",
       "      <th>2019</th>\n",
       "      <th>2020</th>\n",
       "      <th>2021</th>\n",
       "      <th>2022</th>\n",
       "      <th>2023</th>\n",
       "      <th>2024</th>\n",
       "      <th>p</th>\n",
       "    </tr>\n",
       "    <tr>\n",
       "      <th>cat</th>\n",
       "      <th>var</th>\n",
       "      <th></th>\n",
       "      <th></th>\n",
       "      <th></th>\n",
       "      <th></th>\n",
       "      <th></th>\n",
       "      <th></th>\n",
       "      <th></th>\n",
       "      <th></th>\n",
       "    </tr>\n",
       "  </thead>\n",
       "  <tbody>\n",
       "    <tr>\n",
       "      <th rowspan=\"3\" valign=\"top\"></th>\n",
       "      <th>n</th>\n",
       "      <td>5629</td>\n",
       "      <td>7468</td>\n",
       "      <td>5199</td>\n",
       "      <td>6425</td>\n",
       "      <td>8068</td>\n",
       "      <td>8373</td>\n",
       "      <td>7157</td>\n",
       "      <td></td>\n",
       "    </tr>\n",
       "    <tr>\n",
       "      <th>age</th>\n",
       "      <td>41.9 (13.7)</td>\n",
       "      <td>42.1 (13.6)</td>\n",
       "      <td>41.6 (13.8)</td>\n",
       "      <td>43.1 (13.9)</td>\n",
       "      <td>43.0 (14.0)</td>\n",
       "      <td>43.8 (13.8)</td>\n",
       "      <td>42.9 (14.2)</td>\n",
       "      <td>&lt;0.001</td>\n",
       "    </tr>\n",
       "    <tr>\n",
       "      <th>BMI</th>\n",
       "      <td>28.9 (6.6)</td>\n",
       "      <td>29.2 (6.8)</td>\n",
       "      <td>28.7 (6.5)</td>\n",
       "      <td>29.3 (7.0)</td>\n",
       "      <td>29.3 (7.3)</td>\n",
       "      <td>29.7 (7.9)</td>\n",
       "      <td>29.1 (7.2)</td>\n",
       "      <td>&lt;0.001</td>\n",
       "    </tr>\n",
       "    <tr>\n",
       "      <th rowspan=\"3\" valign=\"top\">Gender</th>\n",
       "      <th>Female</th>\n",
       "      <td>3780 (67.2%)</td>\n",
       "      <td>5039 (67.5%)</td>\n",
       "      <td>3417 (65.7%)</td>\n",
       "      <td>4240 (66.0%)</td>\n",
       "      <td>5494 (68.1%)</td>\n",
       "      <td>5614 (67.0%)</td>\n",
       "      <td>4702 (65.7%)</td>\n",
       "      <td>&lt;0.001</td>\n",
       "    </tr>\n",
       "    <tr>\n",
       "      <th>Male</th>\n",
       "      <td>1849 (32.8%)</td>\n",
       "      <td>2429 (32.5%)</td>\n",
       "      <td>1782 (34.3%)</td>\n",
       "      <td>2184 (34.0%)</td>\n",
       "      <td>2566 (31.8%)</td>\n",
       "      <td>2738 (32.7%)</td>\n",
       "      <td>2428 (33.9%)</td>\n",
       "      <td></td>\n",
       "    </tr>\n",
       "    <tr>\n",
       "      <th>Other</th>\n",
       "      <td></td>\n",
       "      <td></td>\n",
       "      <td></td>\n",
       "      <td>1 (0.0%)</td>\n",
       "      <td>8 (0.1%)</td>\n",
       "      <td>21 (0.3%)</td>\n",
       "      <td>27 (0.4%)</td>\n",
       "      <td></td>\n",
       "    </tr>\n",
       "    <tr>\n",
       "      <th rowspan=\"2\" valign=\"top\">depression</th>\n",
       "      <th>0</th>\n",
       "      <td>5004 (88.9%)</td>\n",
       "      <td>6555 (87.8%)</td>\n",
       "      <td>4538 (87.3%)</td>\n",
       "      <td>5692 (88.6%)</td>\n",
       "      <td>7190 (89.1%)</td>\n",
       "      <td>7384 (88.2%)</td>\n",
       "      <td>6246 (87.3%)</td>\n",
       "      <td>&lt;0.01</td>\n",
       "    </tr>\n",
       "    <tr>\n",
       "      <th>1</th>\n",
       "      <td>625 (11.1%)</td>\n",
       "      <td>913 (12.2%)</td>\n",
       "      <td>661 (12.7%)</td>\n",
       "      <td>733 (11.4%)</td>\n",
       "      <td>878 (10.9%)</td>\n",
       "      <td>989 (11.8%)</td>\n",
       "      <td>911 (12.7%)</td>\n",
       "      <td></td>\n",
       "    </tr>\n",
       "    <tr>\n",
       "      <th rowspan=\"2\" valign=\"top\">anxiety</th>\n",
       "      <th>0</th>\n",
       "      <td>4967 (88.2%)</td>\n",
       "      <td>6543 (87.6%)</td>\n",
       "      <td>4550 (87.5%)</td>\n",
       "      <td>5692 (88.6%)</td>\n",
       "      <td>7146 (88.6%)</td>\n",
       "      <td>7347 (87.7%)</td>\n",
       "      <td>6183 (86.4%)</td>\n",
       "      <td>&lt;0.001</td>\n",
       "    </tr>\n",
       "    <tr>\n",
       "      <th>1</th>\n",
       "      <td>662 (11.8%)</td>\n",
       "      <td>925 (12.4%)</td>\n",
       "      <td>649 (12.5%)</td>\n",
       "      <td>733 (11.4%)</td>\n",
       "      <td>922 (11.4%)</td>\n",
       "      <td>1026 (12.3%)</td>\n",
       "      <td>974 (13.6%)</td>\n",
       "      <td></td>\n",
       "    </tr>\n",
       "    <tr>\n",
       "      <th rowspan=\"2\" valign=\"top\">taking_ad_ax</th>\n",
       "      <th>0</th>\n",
       "      <td>4913 (87.3%)</td>\n",
       "      <td>6525 (87.4%)</td>\n",
       "      <td>4512 (86.8%)</td>\n",
       "      <td>5609 (87.3%)</td>\n",
       "      <td>7009 (86.9%)</td>\n",
       "      <td>7196 (85.9%)</td>\n",
       "      <td>6108 (85.3%)</td>\n",
       "      <td>&lt;0.01</td>\n",
       "    </tr>\n",
       "    <tr>\n",
       "      <th>1</th>\n",
       "      <td>716 (12.7%)</td>\n",
       "      <td>943 (12.6%)</td>\n",
       "      <td>687 (13.2%)</td>\n",
       "      <td>816 (12.7%)</td>\n",
       "      <td>1059 (13.1%)</td>\n",
       "      <td>1177 (14.1%)</td>\n",
       "      <td>1049 (14.7%)</td>\n",
       "      <td></td>\n",
       "    </tr>\n",
       "    <tr>\n",
       "      <th rowspan=\"2\" valign=\"top\">sleep_disorder</th>\n",
       "      <th>0</th>\n",
       "      <td>5284 (93.9%)</td>\n",
       "      <td>6994 (93.7%)</td>\n",
       "      <td>4894 (94.1%)</td>\n",
       "      <td>6117 (95.2%)</td>\n",
       "      <td>7717 (95.6%)</td>\n",
       "      <td>7969 (95.2%)</td>\n",
       "      <td>6800 (95.0%)</td>\n",
       "      <td>&lt;0.001</td>\n",
       "    </tr>\n",
       "    <tr>\n",
       "      <th>1</th>\n",
       "      <td>345 (6.1%)</td>\n",
       "      <td>474 (6.3%)</td>\n",
       "      <td>305 (5.9%)</td>\n",
       "      <td>308 (4.8%)</td>\n",
       "      <td>351 (4.4%)</td>\n",
       "      <td>404 (4.8%)</td>\n",
       "      <td>357 (5.0%)</td>\n",
       "      <td></td>\n",
       "    </tr>\n",
       "    <tr>\n",
       "      <th rowspan=\"4\" valign=\"top\">relationship_grouped</th>\n",
       "      <th>Immediate family</th>\n",
       "      <td>1697 (33.2%)</td>\n",
       "      <td>2309 (33.9%)</td>\n",
       "      <td>1519 (31.5%)</td>\n",
       "      <td>1945 (34.2%)</td>\n",
       "      <td>2330 (33.5%)</td>\n",
       "      <td>2440 (33.5%)</td>\n",
       "      <td>2358 (37.5%)</td>\n",
       "      <td>&lt;0.001</td>\n",
       "    </tr>\n",
       "    <tr>\n",
       "      <th>Friend</th>\n",
       "      <td>1417 (27.7%)</td>\n",
       "      <td>1935 (28.4%)</td>\n",
       "      <td>1322 (27.4%)</td>\n",
       "      <td>1537 (27.1%)</td>\n",
       "      <td>1951 (28.0%)</td>\n",
       "      <td>1817 (25.0%)</td>\n",
       "      <td>1470 (23.4%)</td>\n",
       "      <td></td>\n",
       "    </tr>\n",
       "    <tr>\n",
       "      <th>Unrelated</th>\n",
       "      <td>1158 (22.7%)</td>\n",
       "      <td>1481 (21.8%)</td>\n",
       "      <td>1231 (25.5%)</td>\n",
       "      <td>1371 (24.1%)</td>\n",
       "      <td>1819 (26.1%)</td>\n",
       "      <td>2112 (29.0%)</td>\n",
       "      <td>1718 (27.3%)</td>\n",
       "      <td></td>\n",
       "    </tr>\n",
       "    <tr>\n",
       "      <th>Extended family</th>\n",
       "      <td>840 (16.4%)</td>\n",
       "      <td>1080 (15.9%)</td>\n",
       "      <td>748 (15.5%)</td>\n",
       "      <td>828 (14.6%)</td>\n",
       "      <td>857 (12.3%)</td>\n",
       "      <td>905 (12.4%)</td>\n",
       "      <td>747 (11.9%)</td>\n",
       "      <td></td>\n",
       "    </tr>\n",
       "    <tr>\n",
       "      <th rowspan=\"3\" valign=\"top\">erg</th>\n",
       "      <th>All Other</th>\n",
       "      <td>3991 (70.9%)</td>\n",
       "      <td>5293 (70.9%)</td>\n",
       "      <td>3791 (72.9%)</td>\n",
       "      <td>4557 (70.9%)</td>\n",
       "      <td>5691 (70.5%)</td>\n",
       "      <td>5754 (68.7%)</td>\n",
       "      <td>4989 (69.7%)</td>\n",
       "      <td>&lt;0.001</td>\n",
       "    </tr>\n",
       "    <tr>\n",
       "      <th>H</th>\n",
       "      <td>1244 (22.1%)</td>\n",
       "      <td>1579 (21.1%)</td>\n",
       "      <td>991 (19.1%)</td>\n",
       "      <td>1374 (21.4%)</td>\n",
       "      <td>1664 (20.6%)</td>\n",
       "      <td>1870 (22.3%)</td>\n",
       "      <td>1571 (22.0%)</td>\n",
       "      <td></td>\n",
       "    </tr>\n",
       "    <tr>\n",
       "      <th>B</th>\n",
       "      <td>394 (7.0%)</td>\n",
       "      <td>596 (8.0%)</td>\n",
       "      <td>417 (8.0%)</td>\n",
       "      <td>494 (7.7%)</td>\n",
       "      <td>713 (8.8%)</td>\n",
       "      <td>749 (8.9%)</td>\n",
       "      <td>597 (8.3%)</td>\n",
       "      <td></td>\n",
       "    </tr>\n",
       "  </tbody>\n",
       "</table>\n",
       "</div>"
      ],
      "text/plain": [
       "                                               2018          2019  \\\n",
       "cat                  var                                            \n",
       "                     n                         5629          7468   \n",
       "                     age                41.9 (13.7)   42.1 (13.6)   \n",
       "                     BMI                 28.9 (6.6)    29.2 (6.8)   \n",
       "Gender               Female            3780 (67.2%)  5039 (67.5%)   \n",
       "                     Male              1849 (32.8%)  2429 (32.5%)   \n",
       "                     Other                                          \n",
       "depression           0                 5004 (88.9%)  6555 (87.8%)   \n",
       "                     1                  625 (11.1%)   913 (12.2%)   \n",
       "anxiety              0                 4967 (88.2%)  6543 (87.6%)   \n",
       "                     1                  662 (11.8%)   925 (12.4%)   \n",
       "taking_ad_ax         0                 4913 (87.3%)  6525 (87.4%)   \n",
       "                     1                  716 (12.7%)   943 (12.6%)   \n",
       "sleep_disorder       0                 5284 (93.9%)  6994 (93.7%)   \n",
       "                     1                   345 (6.1%)    474 (6.3%)   \n",
       "relationship_grouped Immediate family  1697 (33.2%)  2309 (33.9%)   \n",
       "                     Friend            1417 (27.7%)  1935 (28.4%)   \n",
       "                     Unrelated         1158 (22.7%)  1481 (21.8%)   \n",
       "                     Extended family    840 (16.4%)  1080 (15.9%)   \n",
       "erg                  All Other         3991 (70.9%)  5293 (70.9%)   \n",
       "                     H                 1244 (22.1%)  1579 (21.1%)   \n",
       "                     B                   394 (7.0%)    596 (8.0%)   \n",
       "\n",
       "                                               2020          2021  \\\n",
       "cat                  var                                            \n",
       "                     n                         5199          6425   \n",
       "                     age                41.6 (13.8)   43.1 (13.9)   \n",
       "                     BMI                 28.7 (6.5)    29.3 (7.0)   \n",
       "Gender               Female            3417 (65.7%)  4240 (66.0%)   \n",
       "                     Male              1782 (34.3%)  2184 (34.0%)   \n",
       "                     Other                               1 (0.0%)   \n",
       "depression           0                 4538 (87.3%)  5692 (88.6%)   \n",
       "                     1                  661 (12.7%)   733 (11.4%)   \n",
       "anxiety              0                 4550 (87.5%)  5692 (88.6%)   \n",
       "                     1                  649 (12.5%)   733 (11.4%)   \n",
       "taking_ad_ax         0                 4512 (86.8%)  5609 (87.3%)   \n",
       "                     1                  687 (13.2%)   816 (12.7%)   \n",
       "sleep_disorder       0                 4894 (94.1%)  6117 (95.2%)   \n",
       "                     1                   305 (5.9%)    308 (4.8%)   \n",
       "relationship_grouped Immediate family  1519 (31.5%)  1945 (34.2%)   \n",
       "                     Friend            1322 (27.4%)  1537 (27.1%)   \n",
       "                     Unrelated         1231 (25.5%)  1371 (24.1%)   \n",
       "                     Extended family    748 (15.5%)   828 (14.6%)   \n",
       "erg                  All Other         3791 (72.9%)  4557 (70.9%)   \n",
       "                     H                  991 (19.1%)  1374 (21.4%)   \n",
       "                     B                   417 (8.0%)    494 (7.7%)   \n",
       "\n",
       "                                               2022          2023  \\\n",
       "cat                  var                                            \n",
       "                     n                         8068          8373   \n",
       "                     age                43.0 (14.0)   43.8 (13.8)   \n",
       "                     BMI                 29.3 (7.3)    29.7 (7.9)   \n",
       "Gender               Female            5494 (68.1%)  5614 (67.0%)   \n",
       "                     Male              2566 (31.8%)  2738 (32.7%)   \n",
       "                     Other                 8 (0.1%)     21 (0.3%)   \n",
       "depression           0                 7190 (89.1%)  7384 (88.2%)   \n",
       "                     1                  878 (10.9%)   989 (11.8%)   \n",
       "anxiety              0                 7146 (88.6%)  7347 (87.7%)   \n",
       "                     1                  922 (11.4%)  1026 (12.3%)   \n",
       "taking_ad_ax         0                 7009 (86.9%)  7196 (85.9%)   \n",
       "                     1                 1059 (13.1%)  1177 (14.1%)   \n",
       "sleep_disorder       0                 7717 (95.6%)  7969 (95.2%)   \n",
       "                     1                   351 (4.4%)    404 (4.8%)   \n",
       "relationship_grouped Immediate family  2330 (33.5%)  2440 (33.5%)   \n",
       "                     Friend            1951 (28.0%)  1817 (25.0%)   \n",
       "                     Unrelated         1819 (26.1%)  2112 (29.0%)   \n",
       "                     Extended family    857 (12.3%)   905 (12.4%)   \n",
       "erg                  All Other         5691 (70.5%)  5754 (68.7%)   \n",
       "                     H                 1664 (20.6%)  1870 (22.3%)   \n",
       "                     B                   713 (8.8%)    749 (8.9%)   \n",
       "\n",
       "                                               2024       p  \n",
       "cat                  var                                     \n",
       "                     n                         7157          \n",
       "                     age                42.9 (14.2)  <0.001  \n",
       "                     BMI                 29.1 (7.2)  <0.001  \n",
       "Gender               Female            4702 (65.7%)  <0.001  \n",
       "                     Male              2428 (33.9%)          \n",
       "                     Other                27 (0.4%)          \n",
       "depression           0                 6246 (87.3%)   <0.01  \n",
       "                     1                  911 (12.7%)          \n",
       "anxiety              0                 6183 (86.4%)  <0.001  \n",
       "                     1                  974 (13.6%)          \n",
       "taking_ad_ax         0                 6108 (85.3%)   <0.01  \n",
       "                     1                 1049 (14.7%)          \n",
       "sleep_disorder       0                 6800 (95.0%)  <0.001  \n",
       "                     1                   357 (5.0%)          \n",
       "relationship_grouped Immediate family  2358 (37.5%)  <0.001  \n",
       "                     Friend            1470 (23.4%)          \n",
       "                     Unrelated         1718 (27.3%)          \n",
       "                     Extended family    747 (11.9%)          \n",
       "erg                  All Other         4989 (69.7%)  <0.001  \n",
       "                     H                 1571 (22.0%)          \n",
       "                     B                   597 (8.3%)          "
      ]
     },
     "execution_count": 377,
     "metadata": {},
     "output_type": "execute_result"
    }
   ],
   "source": [
    "ct = mf.char_table(y_dict, \n",
    "                   cats = ['Gender', 'depression', 'anxiety', 'taking_ad_ax', 'sleep_disorder', 'relationship_grouped', 'erg'],\n",
    "                   norm = ['age', 'BMI']\n",
    "                  \n",
    "                  \n",
    "                  \n",
    "                  )\n",
    "ct[list(range(2018, 2025, 1)) + ['p']]"
   ]
  },
  {
   "cell_type": "markdown",
   "id": "6030ff34-907c-48b1-9e44-cc3fcaf58cf5",
   "metadata": {
    "jp-MarkdownHeadingCollapsed": true
   },
   "source": [
    "## Figures"
   ]
  },
  {
   "cell_type": "markdown",
   "id": "efe467ea-698f-4359-a3f4-a947a73695c4",
   "metadata": {},
   "source": [
    "Im making the figures here (you couldve guessed that)\\\n",
    "I don't annotate how I make figures but I use seaborn\\\n",
    "lots of documentation online\\\n",
    "this is one thing that chat is actually really good at helping with\\\n",
    "figure labels are based on the single center paper"
   ]
  },
  {
   "cell_type": "code",
   "execution_count": null,
   "id": "153930e8-03b9-416a-8eae-c36aebf15fe9",
   "metadata": {},
   "outputs": [],
   "source": [
    "#Figure 1A"
   ]
  },
  {
   "cell_type": "code",
   "execution_count": 280,
   "id": "5b0fb221-90c1-4143-8e92-ae7a83647cf8",
   "metadata": {},
   "outputs": [],
   "source": [
    "label_map = {\n",
    "    'All Other':'All Other',\n",
    "    'B':'Black',\n",
    "    'H':'Latino'\n",
    "}\n",
    "p_y_erg = pd.DataFrame(p_y_erg.value_counts().reset_index())\n",
    "p_y_erg['group'] = p_y_erg.erg.map(label_map)"
   ]
  },
  {
   "cell_type": "code",
   "execution_count": 554,
   "id": "3405cbec-d251-44aa-993e-393ebb6bbb3b",
   "metadata": {},
   "outputs": [
    {
     "data": {
      "image/png": "[encoded data removed]",
      "text/plain": [
       "<Figure size 800x600 with 1 Axes>"
      ]
     },
     "metadata": {},
     "output_type": "display_data"
    }
   ],
   "source": [
    "fig, ax = plt.subplots(figsize = (8, 6))\n",
    "\n",
    "sns.set_style('white')\n",
    "palette = ['white', 'gray', 'black']\n",
    "sns.barplot(\n",
    "    data = p_y_erg,\n",
    "    x = 'year',\n",
    "    y = 'count',\n",
    "    hue = 'group',\n",
    "    edgecolor='k',\n",
    "    palette = palette,\n",
    "    ax = ax\n",
    ")\n",
    "ax.yaxis.grid(True, ls='-.', lw=0.7, color = 'gray')\n",
    "ax.set_xlabel('Year', weight='bold', fontsize = 'large')\n",
    "ax.set_ylabel('Applicants', weight = 'bold', fontsize = 'large')\n",
    "ax.legend(title = 'Ethnoracial Group',  loc='center left',\n",
    "          bbox_to_anchor=(1, 0.75), ncol=1, frameon=False, title_fontproperties={'weight' : 'bold', 'size' : 'large'})\n",
    "sns.despine()\n",
    "plt.show()"
   ]
  },
  {
   "cell_type": "code",
   "execution_count": 553,
   "id": "d993a68e-6339-41e2-bcbe-51f43b00ed24",
   "metadata": {},
   "outputs": [
    {
     "data": {
      "image/png": "[encoded data removed]",
      "text/plain": [
       "<Figure size 800x600 with 1 Axes>"
      ]
     },
     "metadata": {},
     "output_type": "display_data"
    }
   ],
   "source": [
    "#Figure 1B\n",
    "df_wide = pyg.pivot(index='year', columns='Gender', values='proportion').fillna(0)\n",
    "\n",
    "\n",
    "order = ['Female','Male','Other']  \n",
    "df_wide = df_wide[order]\n",
    "df_wide *= 100\n",
    "\n",
    "palette = ['white','k','gray']\n",
    "fig, ax = plt.subplots(figsize=(8,6))\n",
    "\n",
    "\n",
    "bottom = pd.Series(0, index=df_wide.index)\n",
    "for color, col in zip(palette, df_wide.columns):\n",
    "    ax.bar(\n",
    "        df_wide.index.astype(str),\n",
    "        df_wide[col],\n",
    "        bottom=bottom,\n",
    "        label=col,\n",
    "        color=color,\n",
    "        edgecolor='k',\n",
    "        width = 0.9\n",
    "    )\n",
    "    bottom += df_wide[col]\n",
    "\n",
    "\n",
    "ax.yaxis.grid(True, ls='-.', lw=0.7, color='gray')\n",
    "ax.set_xlabel('Year', weight='bold', fontsize='large')\n",
    "ax.set_ylabel('Proportion (%)', weight='bold', fontsize='large')\n",
    "ax.legend(title='Gender',  loc='center left',\n",
    "          bbox_to_anchor=(1, 0.75), ncol=1, frameon=False, title_fontproperties={'weight' : 'bold', 'size' : 'large'})\n",
    "\n",
    "plt.tight_layout()\n",
    "plt.show()\n"
   ]
  },
  {
   "cell_type": "code",
   "execution_count": 555,
   "id": "20997909-01f6-4981-bbdf-e442a88df4e5",
   "metadata": {},
   "outputs": [
    {
     "data": {
      "image/png": "[encoded data removed]",
      "text/plain": [
       "<Figure size 800x600 with 1 Axes>"
      ]
     },
     "metadata": {},
     "output_type": "display_data"
    }
   ],
   "source": [
    "#Figure 1C\n",
    "fig, ax = plt.subplots(figsize=(8,6))\n",
    "sns.lineplot(\n",
    "    data = df,\n",
    "    x = 'year',\n",
    "    y = 'age',\n",
    "    estimator = 'mean',\n",
    "    color = 'k',\n",
    "    marker = 's',\n",
    "    err_style = 'bars',\n",
    "    err_kws={'capsize': 4},\n",
    "    markersize=8\n",
    ")\n",
    "sns.despine()\n",
    "\n",
    "ax.yaxis.grid(True, ls='-.', lw=0.7, color='gray')\n",
    "ax.set_xlabel('Year', weight='bold', fontsize='large')\n",
    "ax.set_ylabel('Age', weight='bold', fontsize='large')\n",
    "\n",
    "plt.tight_layout()\n",
    "plt.show()"
   ]
  },
  {
   "cell_type": "code",
   "execution_count": 556,
   "id": "3c039e2b-14ad-4f37-a63d-d5a880830fb1",
   "metadata": {},
   "outputs": [
    {
     "data": {
      "image/png": "[encoded data removed]",
      "text/plain": [
       "<Figure size 800x600 with 1 Axes>"
      ]
     },
     "metadata": {},
     "output_type": "display_data"
    }
   ],
   "source": [
    "#Figure 1D\n",
    "fig, ax = plt.subplots(figsize=(8,6))\n",
    "sns.lineplot(\n",
    "    data = df,\n",
    "    x = 'year',\n",
    "    y = 'BMI',\n",
    "    estimator = 'mean',\n",
    "    color = 'k',\n",
    "    marker = 's',\n",
    "    err_style = 'bars',\n",
    "    err_kws={'capsize': 4},\n",
    "    markersize=8\n",
    ")\n",
    "sns.despine()\n",
    "\n",
    "ax.yaxis.grid(True, ls='-.', lw=0.7, color='gray')\n",
    "ax.set_xlabel('Year', weight='bold', fontsize='large')\n",
    "ax.set_ylabel('BMI', weight='bold', fontsize='large')\n",
    "\n",
    "plt.tight_layout()\n",
    "plt.show()"
   ]
  },
  {
   "cell_type": "code",
   "execution_count": 557,
   "id": "49910fd4-bebc-4806-be42-6bd53f912ccc",
   "metadata": {},
   "outputs": [
    {
     "data": {
      "image/png": "[encoded data removed]",
      "text/plain": [
       "<Figure size 800x600 with 1 Axes>"
      ]
     },
     "metadata": {},
     "output_type": "display_data"
    }
   ],
   "source": [
    "#Figure 2A\n",
    "ry = pd.DataFrame(r_y.value_counts(normalize=True)).reset_index()\n",
    "ry_wide = ry.pivot(index = 'year', columns = 'relationship_grouped', values = 'proportion')\n",
    "ry_wide *= 100\n",
    "order = ['Unrelated', 'Friend', 'Immediate Family', 'Extended Family']\n",
    "palette = ['white', 'lightgray', 'dimgray', 'k']\n",
    "fig, ax = plt.subplots(figsize = (8, 6))\n",
    "bottoms = pd.Series(0, index = ry_wide.index)\n",
    "for c, col in zip(palette, ry_wide.columns):\n",
    "    ax.bar(\n",
    "        ry_wide.index.astype(str),\n",
    "        ry_wide[col],\n",
    "        width = 0.9,\n",
    "        color = c,\n",
    "        bottom = bottoms,\n",
    "        edgecolor = 'k',\n",
    "        label = col\n",
    "    )\n",
    "    bottoms += ry_wide[col]\n",
    "ax.yaxis.grid(True, ls='-.', lw=0.7, color='gray')\n",
    "ax.set_xlabel('Year', weight='bold', fontsize='large')\n",
    "ax.set_ylabel('Proportion (%)', weight='bold', fontsize='large')\n",
    "ax.legend(title='Relationship', loc='center left',\n",
    "          bbox_to_anchor=(1, 0.75), ncol=1, frameon=False, title_fontproperties={'weight' : 'bold', 'size' : 'large'})\n",
    "sns.despine()\n",
    "plt.show()"
   ]
  },
  {
   "cell_type": "code",
   "execution_count": 493,
   "id": "ea8efb7d-9fff-41e4-a76c-2ebba7c6f832",
   "metadata": {},
   "outputs": [],
   "source": [
    "#Figure 2B\n",
    "cr = df.groupby(['year', 'erg'])['coeff_rel'].value_counts()"
   ]
  },
  {
   "cell_type": "code",
   "execution_count": 521,
   "id": "064719bc-6f2a-4aa4-9807-2d03c74f96e6",
   "metadata": {},
   "outputs": [
    {
     "data": {
      "text/plain": [
       "0        0\n",
       "1        0\n",
       "2        1\n",
       "3        0\n",
       "4        0\n",
       "        ..\n",
       "48853    0\n",
       "48854    0\n",
       "48855    0\n",
       "48856    0\n",
       "48857    1\n",
       "Name: depression, Length: 48319, dtype: int64"
      ]
     },
     "execution_count": 521,
     "metadata": {},
     "output_type": "execute_result"
    }
   ],
   "source": [
    "df['depression']"
   ]
  },
  {
   "cell_type": "code",
   "execution_count": 537,
   "id": "1b44c4fc-9d75-406e-afc1-626856ccd115",
   "metadata": {},
   "outputs": [
    {
     "name": "stderr",
     "output_type": "stream",
     "text": [
      "/var/folders/nx/_g213lmj3b79wrzpf1wxbcc40000gn/T/ipykernel_22314/156209857.py:1: SettingWithCopyWarning: \n",
      "A value is trying to be set on a copy of a slice from a DataFrame.\n",
      "Try using .loc[row_indexer,col_indexer] = value instead\n",
      "\n",
      "See the caveats in the documentation: https://pandas.pydata.org/pandas-docs/stable/user_guide/indexing.html#returning-a-view-versus-a-copy\n",
      "  df['summ'] = (df[['depression', 'anxiety', 'sleep_disorder']].sum(axis=1) == 3).astype(int)\n"
     ]
    }
   ],
   "source": [
    "df['summ'] = (df[['depression', 'anxiety', 'sleep_disorder']].sum(axis=1) == 3).astype(int)"
   ]
  },
  {
   "cell_type": "code",
   "execution_count": 545,
   "id": "45ab6376-915f-4439-a847-726efd3c2ce4",
   "metadata": {},
   "outputs": [
    {
     "data": {
      "image/png": "[encoded data removed]",
      "text/plain": [
       "<Figure size 1000x1200 with 6 Axes>"
      ]
     },
     "metadata": {},
     "output_type": "display_data"
    }
   ],
   "source": [
    "#Figure 3 Ima make in one rip because it seems easy to do so\n",
    "pw = ['with Depression', \n",
    "      'with Anxiety', \n",
    "      'with Sleep Disorder', \n",
    "      'with Depression, Anxiety, and Sleep Disorder',\n",
    "      'with Other Psychiatric Conditions',\n",
    "      'taking Antidepressants/Anxiolytics'\n",
    "     ]\n",
    "\n",
    "conds = ['depression', 'anxiety', 'sleep_disorder', 'summ', 'other_psychiatric_condition', 'taking_ad_ax']\n",
    "fig, axs = plt.subplots(3, 2, figsize = (10, 12), layout='constrained')\n",
    "for i, ax in enumerate(axs.flatten()):\n",
    "    \n",
    "    d = df.groupby('year')[conds[i]].value_counts(normalize=True)\n",
    "    d = pd.DataFrame(d).reset_index().query(f'{conds[i]} == 1')\n",
    "    d.proportion *= 100\n",
    "    sns.barplot(\n",
    "        x = 'year',\n",
    "        y = 'proportion',\n",
    "        data = d,\n",
    "        ax = ax,\n",
    "        color = 'k'\n",
    "        \n",
    "    )\n",
    "\n",
    "        \n",
    "    ax.yaxis.grid(True, ls='-.', lw=0.7, color='gray')\n",
    "    ax.set_ylabel(f'Proportion {pw[i]} (%)', weight='bold', fontsize='small', wrap=True)\n",
    "    ax.set_xlabel('Year', weight='bold', fontsize='small')\n",
    "    ax.bar_label(ax.containers[0], fmt = '%.1f')\n",
    "    \n",
    "\n",
    "sns.despine(left = True)"
   ]
  },
  {
   "cell_type": "code",
   "execution_count": null,
   "id": "c5f293a6-0551-4bca-b52f-4fb363c38bfa",
   "metadata": {},
   "outputs": [],
   "source": []
  }
 ],
 "metadata": {
  "kernelspec": {
   "display_name": "Python 3 (ipykernel)",
   "language": "python",
   "name": "python3"
  },
  "language_info": {
   "codemirror_mode": {
    "name": "ipython",
    "version": 3
   },
   "file_extension": ".py",
   "mimetype": "text/x-python",
   "name": "python",
   "nbconvert_exporter": "python",
   "pygments_lexer": "ipython3",
   "version": "3.11.8"
  }
 },
 "nbformat": 4,
 "nbformat_minor": 5
}
